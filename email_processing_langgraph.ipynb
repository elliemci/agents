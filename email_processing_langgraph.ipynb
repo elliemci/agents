{
  "nbformat": 4,
  "nbformat_minor": 0,
  "metadata": {
    "colab": {
      "provenance": [],
      "authorship_tag": "ABX9TyPoOSDuHWGMBZ5CVcu/dB/F",
      "include_colab_link": true
    },
    "kernelspec": {
      "name": "python3",
      "display_name": "Python 3"
    },
    "language_info": {
      "name": "python"
    }
  },
  "cells": [
    {
      "cell_type": "markdown",
      "metadata": {
        "id": "view-in-github",
        "colab_type": "text"
      },
      "source": [
        "<a href=\"https://colab.research.google.com/github/elliemci/agents/blob/main/email_processing_langgraph.ipynb\" target=\"_parent\"><img src=\"https://colab.research.google.com/assets/colab-badge.svg\" alt=\"Open In Colab\"/></a>"
      ]
    },
    {
      "cell_type": "markdown",
      "source": [
        "# LangGraph workflow for email processing"
      ],
      "metadata": {
        "id": "M-cVdSp5tD4Z"
      }
    },
    {
      "cell_type": "code",
      "execution_count": null,
      "metadata": {
        "id": "578IcgaLs8dT"
      },
      "outputs": [],
      "source": [
        "!pip install langgraph langchain_openai langchain_huggingface"
      ]
    },
    {
      "cell_type": "code",
      "source": [
        "from google.colab import drive\n",
        "drive.mount('/content/drive')\n",
        "\n",
        "%cd /content/drive/MyDrive/ColabNotebooks/AgentsCourse"
      ],
      "metadata": {
        "colab": {
          "base_uri": "https://localhost:8080/"
        },
        "id": "r_seSyM_toi_",
        "outputId": "de2af3dc-058a-49ce-ad77-88f9624c50b2"
      },
      "execution_count": null,
      "outputs": [
        {
          "output_type": "stream",
          "name": "stdout",
          "text": [
            "Mounted at /content/drive\n",
            "/content/drive/MyDrive/ColabNotebooks/AgentsCourse\n"
          ]
        }
      ]
    },
    {
      "cell_type": "markdown",
      "source": [
        "Email processing consists of reading incoming emails, classifying them as legit or spam, draft a preliminaty response of legit emails, sending prelim responce for validation and edit."
      ],
      "metadata": {
        "id": "lu-DeZUCuHX3"
      }
    },
    {
      "cell_type": "code",
      "source": [
        "import os\n",
        "\n",
        "from typing import TypedDict, List, Dict, Any, Optional  # typing module introduces hints/ type annotations, which works at runtime by implementing __getitem__() in the metaclass and as a offline type checker\n",
        "from langgraph.graph import StateGraph, START, END\n",
        "from langchain_openai import ChatOpenAI\n",
        "from langchain_core.messages import HumanMessage, AIMessage\n",
        "\n",
        "from google.colab import userdata\n",
        "\n",
        "openai_api_key = userdata.get('OPENAI_API_KEY')\n",
        "model = ChatOpenAI(model=\"gpt-4o-mini\", api_key=openai_api_key, temperature=0)"
      ],
      "metadata": {
        "id": "Onu_a27VvLQF"
      },
      "execution_count": null,
      "outputs": []
    },
    {
      "cell_type": "markdown",
      "source": [
        "## States"
      ],
      "metadata": {
        "id": "6MF99G2T16vI"
      }
    },
    {
      "cell_type": "markdown",
      "source": [
        "State should be comprehensive enough to track all the important information. The email processing need to track:\n",
        "* email being processed\n",
        "* email class legit or spam\n",
        "* classification reason\n",
        "* draft response\n",
        "* conversation history\n"
      ],
      "metadata": {
        "id": "tA_LOKSm2D81"
      }
    },
    {
      "cell_type": "code",
      "source": [
        "class EmailState(TypedDict):\n",
        "    email: Dict[str, Any]           # attribute that stores the actual email data as a dictionary with keys like \"sender\", \"recipient\", \"subject\", \"body\", etc. with keys being strings and values of any type\n",
        "    is_spam: Optional[bool]         # attribute can be either be \"True\", \"Falase\" or \"None\" in not yet classified\n",
        "    spam_reason: Optional[str]      # attribute that provides a reason for the classificaition, eg \"contains phising links\"; Options[str] means it can contain a strin or None\n",
        "    email_category: Optional[str]   # attribute that stores the categoty or label of assined to email like \"innquiry\", \"complaint\", \"notification\"\n",
        "    draft_response: Optional[str]   # preliminaty draft of the response; [] mean no new syntax needs to be added to the language\n",
        "    messages: List[Dict[str, Any]]  # conversational history as a list of dictionaries, where each dictionary represent a message in the conversation"
      ],
      "metadata": {
        "id": "mYyDYxV_3GR5"
      },
      "execution_count": null,
      "outputs": []
    },
    {
      "cell_type": "markdown",
      "source": [
        "## Nodes"
      ],
      "metadata": {
        "id": "NtRmTHj9CmSa"
      }
    },
    {
      "cell_type": "code",
      "source": [
        "def read_email(state: EmailState):   # input parameter 'state', hit \": EmailState\" TypeDict; Type Hinting helps code editors and static analysis tools\n",
        "  email = state[\"email\"]             # extract the email data from state dictionary\n",
        "  print(f\"Agent is processing an email from {email['sender']} with subject: {email['subject']}\")\n",
        "  return {}                          # return an empty sictionary a placehoder for future functionality"
      ],
      "metadata": {
        "id": "4uJKmeh7Clxz"
      },
      "execution_count": null,
      "outputs": []
    },
    {
      "cell_type": "code",
      "source": [
        "def classify_email(state: EmailState):\n",
        "  \"\"\" Function that figure out state updates and returns them in a dictionary.\n",
        "      The framework will take these updated and merge them into the existing state\n",
        "      to replfect the changes made.\"\"\"\n",
        "\n",
        "  email = state[\"email\"]\n",
        "\n",
        "  prompt = f\"\"\"\n",
        "  As an agent, analyze this email and determine if it is spam or legitimate and should be bring to the user attention.\n",
        "\n",
        "Email:\n",
        "From: {email['sender']}\n",
        "Subject: {email['subject']}\n",
        "Body: {email['body']}\n",
        "\n",
        "First, determine if this email is spam.\n",
        "answer with SPAM or HAM if it's legitimate. Only reurn the answer\n",
        "Answer :\n",
        "    \"\"\"\n",
        "  # create a conversation sequence of messages list containing HummanMessage object, which is a LangChain way of encapsulating a message from human uset to the LLM\n",
        "  messages = [HumanMessage(content=prompt)]\n",
        "  # send the messages list containing the prompt to the LLM for processing\n",
        "  response = model.invoke(messages)\n",
        "  # extracting and lowercasing the llm response\n",
        "  response_text = response.content.lower()\n",
        "  print(response_text)\n",
        "\n",
        "  # check if substring \"spam\" is present in responce\n",
        "  is_spam = \"spam\" in response_text and \"ham\" not in response_text\n",
        "\n",
        "  # if the email is not spam the conversation history is updated with the prompt and the LLM's response\n",
        "  if not is_spam:\n",
        "      new_messages = state.get(\"messages\", []) + [\n",
        "          {\"role\": \"user\", \"content\": prompt},\n",
        "          {\"role\": \"assistant\", \"content\": response.content}\n",
        "      ]\n",
        "  # if the message is not spam, the conversation histoty retains its original value from state\n",
        "  else :\n",
        "      new_messages = state.get(\"messages\", [])\n",
        "\n",
        "  # updates to specific keys\n",
        "  return {\n",
        "      \"is_spam\": is_spam,\n",
        "      \"messages\": new_messages\n",
        "  }"
      ],
      "metadata": {
        "id": "1Ez5Q2XYGdnQ"
      },
      "execution_count": null,
      "outputs": []
    },
    {
      "cell_type": "code",
      "source": [
        "def handle_spam(state: EmailState):\n",
        "  print(f\"Agent is handling a spam email from {state['email']['sender']}\")\n",
        "  print(\"The email has been moved to the spam folder.\")\n",
        "  return {}"
      ],
      "metadata": {
        "id": "ielrzHbdiQHN"
      },
      "execution_count": null,
      "outputs": []
    },
    {
      "cell_type": "code",
      "source": [
        "def drafting_response(state: EmailState):\n",
        "  \"\"\"Function takes an email, crafts a prompt asking a LLM to draft a response,\n",
        "     updates the conversation history, and returns the LLM's response and updated history.\"\"\"\n",
        "  # extract the email data\n",
        "  email = state[\"email\"]\n",
        "  print(f\"Agent is drafting a response for an email from {email['sender']}\")\n",
        "\n",
        "  # create a prompt including a context with email sender, subject and body\n",
        "  prompt = f\"\"\"\n",
        "  As an agent, draft a polite preliminary response to this email.\n",
        "\n",
        "  Email:\n",
        "  From: {email['sender']}\n",
        "  Subject: {email['subject']}\n",
        "  Body: {email['body']}\n",
        "\n",
        "  Draft a professional response that will be review before sending.\n",
        "  \"\"\"\n",
        "\n",
        "  # create a messages object containin the prompt formated as it came from human user\n",
        "  messages = [HumanMessage(content=prompt)]\n",
        "  response = model.invoke(messages)\n",
        "\n",
        "  # update conversation history by retriving the existing messages and appending\n",
        "  # two new messages the prompt and the language model's response\n",
        "  new_messages = state.get(\"messages\", []) + [\n",
        "      {\"role\": \"user\", \"content\": prompt},\n",
        "      {\"role\": \"assistant\", \"content\": response.content}\n",
        "  ]\n",
        "\n",
        "  return {\n",
        "      \"draft_response\": response.content,\n",
        "      \"messages\": new_messages\n",
        "      }"
      ],
      "metadata": {
        "id": "TNrR_4nKioyf"
      },
      "execution_count": null,
      "outputs": []
    },
    {
      "cell_type": "code",
      "source": [
        "def notify(state: EmailState):\n",
        "    email = state[\"email\"]\n",
        "\n",
        "    print(\"\\n\" + \"=\"*50)\n",
        "    print(f\"You've received an email from {email['sender']}.\")\n",
        "    print(f\"Subject: {email['subject']}\")\n",
        "    print(\"\\nI've prepared a draft response for your review:\")\n",
        "    print(\"-\"*50)\n",
        "    print(state[\"draft_response\"])\n",
        "    print(\"=\"*50 + \"\\n\")\n",
        "\n",
        "    return {}"
      ],
      "metadata": {
        "id": "mAsaTCA4lH34"
      },
      "execution_count": null,
      "outputs": []
    },
    {
      "cell_type": "markdown",
      "source": [
        "## Routing Logic"
      ],
      "metadata": {
        "id": "q8WvQGFHpQ0I"
      }
    },
    {
      "cell_type": "code",
      "source": [
        "def route_email(state: EmailState) -> str:\n",
        "  \"\"\" Define routing logic, absed on the classification.\n",
        "      The return value must match one of the keys of the conditional edges mapping\"\"\"\n",
        "  if state[\"is_spam\"]:\n",
        "    return \"spam\"\n",
        "  else:\n",
        "    return \"legitimate\""
      ],
      "metadata": {
        "id": "BVSqnqWepMaC"
      },
      "execution_count": null,
      "outputs": []
    },
    {
      "cell_type": "markdown",
      "source": [
        "# Graph"
      ],
      "metadata": {
        "id": "ctORrj66or30"
      }
    },
    {
      "cell_type": "code",
      "source": [
        "email_graph = StateGraph(EmailState)"
      ],
      "metadata": {
        "id": "0L1GWkr7owy4"
      },
      "execution_count": null,
      "outputs": []
    },
    {
      "cell_type": "markdown",
      "source": [
        "# Nodes"
      ],
      "metadata": {
        "id": "nSk0NgmLpgbj"
      }
    },
    {
      "cell_type": "markdown",
      "source": [
        "NB: Each time the cell is run, it attempts to add the same nodes again, leading to the ValueError."
      ],
      "metadata": {
        "id": "UMH9ZSDd37Pw"
      }
    },
    {
      "cell_type": "code",
      "source": [
        "email_graph.add_node(\"read_email\", read_email) # the read_email node executes the read_mail function\n",
        "email_graph.add_node(\"classify_email\", classify_email) # the classify_email node will execute the classify_email function\n",
        "email_graph.add_node(\"handle_spam\", handle_spam)\n",
        "email_graph.add_node(\"drafting_response\", drafting_response)\n",
        "email_graph.add_node(\"notify\", notify)"
      ],
      "metadata": {
        "id": "MVQnYHKspj0O"
      },
      "execution_count": null,
      "outputs": []
    },
    {
      "cell_type": "markdown",
      "source": [
        "# Edges"
      ],
      "metadata": {
        "id": "xXsmF5_9rxu4"
      }
    },
    {
      "cell_type": "code",
      "source": [
        "email_graph.add_edge(START, \"read_email\")             # after starting, read email\n",
        "email_graph.add_edge(\"read_email\", \"classify_email\")  # after reading, classify\n",
        "\n",
        "# add conditional edges\n",
        "email_graph.add_conditional_edges(\n",
        "    \"classify_email\",\n",
        "    route_email,\n",
        "    {\n",
        "        \"spam\": \"handle_spam\",\n",
        "        \"legitimate\": \"drafting_response\"\n",
        "    }\n",
        ")\n",
        "\n",
        "# add final edges\n",
        "email_graph.add_edge(\"handle_spam\", END)\n",
        "email_graph.add_edge(\"drafting_response\", \"notify\")\n",
        "email_graph.add_edge(\"notify\", END)"
      ],
      "metadata": {
        "colab": {
          "base_uri": "https://localhost:8080/"
        },
        "id": "RlRGtzXJr3R1",
        "outputId": "7bd7a6f6-9c29-4c6c-eda9-766a841e044c"
      },
      "execution_count": null,
      "outputs": [
        {
          "output_type": "execute_result",
          "data": {
            "text/plain": [
              "<langgraph.graph.state.StateGraph at 0x7be16592df10>"
            ]
          },
          "metadata": {},
          "execution_count": 15
        }
      ]
    },
    {
      "cell_type": "markdown",
      "source": [
        "# Compile"
      ],
      "metadata": {
        "id": "sJHB6GAmu0Jb"
      }
    },
    {
      "cell_type": "code",
      "source": [
        "compiled_graph = email_graph.compile()"
      ],
      "metadata": {
        "id": "_X3Tpekfu5_R"
      },
      "execution_count": null,
      "outputs": []
    },
    {
      "cell_type": "code",
      "source": [
        "from IPython.display import Image, display\n",
        "\n",
        "display(Image(compiled_graph.get_graph().draw_mermaid_png()))"
      ],
      "metadata": {
        "colab": {
          "base_uri": "https://localhost:8080/",
          "height": 572
        },
        "id": "3UgeRXD7u9rn",
        "outputId": "a551aaf8-fe26-4b84-bacd-e05e5c6188a4"
      },
      "execution_count": null,
      "outputs": [
        {
          "output_type": "display_data",
          "data": {
            "image/png": "[encoded data removed]",
            "text/plain": [
              "<IPython.core.display.Image object>"
            ]
          },
          "metadata": {}
        }
      ]
    },
    {
      "cell_type": "markdown",
      "source": [
        "## Test"
      ],
      "metadata": {
        "id": "9ynTXI56vZj9"
      }
    },
    {
      "cell_type": "code",
      "source": [
        "# Example emais for testing\n",
        "legitimate_email = {\n",
        "    \"sender\": \"Patrick Holen\",\n",
        "    \"subject\": \"Performance\",\n",
        "    \"body\": \"CONCERT WEEK!!! All Bands and Percussion Ensemble have a concert on Wednesday! Here is the plan for Concert Day 8am- Percussion Students arrive to set up stage, work with Mr. Johnson 9:15am Wind Ensemble Rehearses their set with Percussion Students 9:45am Symphonic Band Rehearses with Percussion Students 10:05am rehearsal ends 6:30pm Sound Check (and to final run through with videos) (ATTIRE IS CONCERT BLACK) Symphonic Band AND Wind Ensemble report to theater w/ Instruments After Soundcheck, instruments and music are to be stored in 1410 7:00pm Concert Band Reports to 1412 7:25pm Concert Band lines up in hallway to enter stage 7:30pm Concert Begins. 8:30pm Concert Ends (approximately)\"\"\"\n",
        "}\n",
        "\n",
        "spam_email = {\n",
        "    \"sender\": \"TurboDebt\",\n",
        "    \"subject\": \"Regarding Your Current Credit Card Debt Relief Options\",\n",
        "    \"body\": \"Fast-Track to financial stability.\"\n",
        "\n",
        "}\n",
        "\n",
        "# process legitimate email\n",
        "print(\"\\nProcessing legtimate email.\")\n",
        "legitimate_result = compiled_graph.invoke({\n",
        "    \"email\": legitimate_email,\n",
        "    \"is_spam\": None,\n",
        "    \"draft_response\": None,\n",
        "    \"messages\": []\n",
        "})\n",
        "\n",
        "# Process spam email\n",
        "print(\"\\nProcessing spam email.\")\n",
        "spam_result = compiled_graph.invoke({\n",
        "    \"email\": spam_email,\n",
        "    \"is_spam\": None,\n",
        "    \"draft_response\": None,\n",
        "    \"messages\": []\n",
        "})"
      ],
      "metadata": {
        "colab": {
          "base_uri": "https://localhost:8080/"
        },
        "id": "qILKmvzYv26k",
        "outputId": "e0f8993f-8f7d-4d07-f2f9-27839f51eb78"
      },
      "execution_count": null,
      "outputs": [
        {
          "output_type": "stream",
          "name": "stdout",
          "text": [
            "\n",
            "Processing legtimate email.\n",
            "Agent is processing an email from Patrick Holen with subject: Performance\n",
            "ham\n",
            "Agent is drafting a response for an email from Patrick Holen\n",
            "\n",
            "==================================================\n",
            "You've received an email from Patrick Holen.\n",
            "Subject: Performance\n",
            "\n",
            "I've prepared a draft response for your review:\n",
            "--------------------------------------------------\n",
            "Subject: Re: Performance\n",
            "\n",
            "Dear Patrick,\n",
            "\n",
            "Thank you for the detailed schedule for Concert Week! I appreciate the clarity and organization you've provided for the day’s events. \n",
            "\n",
            "I will ensure that all students are informed of the timeline and attire requirements. If there are any additional details or changes as we approach the concert, please let me know.\n",
            "\n",
            "Looking forward to a successful performance!\n",
            "\n",
            "Best regards,\n",
            "\n",
            "[Your Name]  \n",
            "[Your Position]  \n",
            "[Your Contact Information]  \n",
            "==================================================\n",
            "\n",
            "\n",
            "Processing spam email.\n",
            "Agent is processing an email from TurboDebt with subject: Regarding Your Current Credit Card Debt Relief Options\n",
            "spam\n",
            "Agent is handling a spam email from TurboDebt\n",
            "The email has been moved to the spam folder.\n"
          ]
        }
      ]
    },
    {
      "cell_type": "markdown",
      "source": [
        "## Inspecting with Langfuse"
      ],
      "metadata": {
        "id": "3bNXYPn-8cZy"
      }
    }
  ]
}