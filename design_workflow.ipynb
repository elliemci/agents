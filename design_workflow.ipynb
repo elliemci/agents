{
  "nbformat": 4,
  "nbformat_minor": 0,
  "metadata": {
    "colab": {
      "provenance": [],
      "authorship_tag": "ABX9TyN43IDQIJqC4qVT3JKRO21E",
      "include_colab_link": true
    },
    "kernelspec": {
      "name": "python3",
      "display_name": "Python 3"
    },
    "language_info": {
      "name": "python"
    }
  },
  "cells": [
    {
      "cell_type": "markdown",
      "metadata": {
        "id": "view-in-github",
        "colab_type": "text"
      },
      "source": [
        "<a href=\"https://colab.research.google.com/github/elliemci/agents/blob/main/design_workflow.ipynb\" target=\"_parent\"><img src=\"https://colab.research.google.com/assets/colab-badge.svg\" alt=\"Open In Colab\"/></a>"
      ]
    },
    {
      "cell_type": "markdown",
      "source": [
        "# Workflow Design"
      ],
      "metadata": {
        "id": "oNOU3Cm28izz"
      }
    },
    {
      "cell_type": "markdown",
      "source": [
        "Build a workflow to create a custome multi-agent system with:\n",
        "* **Fine-grained flow control**: how the data gets passed around the system: looping, branching parallel calls and map-reduce behavior\n",
        "* **Reflection** agents examine their own output\n",
        "* **Structured inputs** and outouts: a richer than a string inputs and outputs\n",
        "* **Multimodality**: handling images, audio and video\n",
        "* **Query planning**: complex planning of how to run based on its inputs"
      ],
      "metadata": {
        "id": "lTJspY7K8oXw"
      }
    },
    {
      "cell_type": "markdown",
      "source": [
        "## Installs and Setup"
      ],
      "metadata": {
        "id": "SfMMoRttAas2"
      }
    },
    {
      "cell_type": "code",
      "source": [
        "!pip install llama_index"
      ],
      "metadata": {
        "id": "mrjLr2GUALbL"
      },
      "execution_count": null,
      "outputs": []
    },
    {
      "cell_type": "code",
      "source": [
        "!pip install tavily-python"
      ],
      "metadata": {
        "id": "pRh0TmpUHyXc"
      },
      "execution_count": null,
      "outputs": []
    },
    {
      "cell_type": "code",
      "source": [
        "!pip install llama-index-llms-huggingface-api"
      ],
      "metadata": {
        "id": "hnh9HkbUH1EW"
      },
      "execution_count": null,
      "outputs": []
    },
    {
      "cell_type": "code",
      "source": [
        "!pip install llama-index llama-index-llms-openai"
      ],
      "metadata": {
        "id": "tmAM-5FsH2Ea"
      },
      "execution_count": null,
      "outputs": []
    },
    {
      "cell_type": "code",
      "source": [
        "from google.colab import drive\n",
        "drive.mount('/content/drive')\n",
        "\n",
        "%cd /content/drive/MyDrive/ColabNotebooks/AgentsCourse"
      ],
      "metadata": {
        "colab": {
          "base_uri": "https://localhost:8080/"
        },
        "id": "_bl8xLegAWDX",
        "outputId": "673a8d3d-5678-4ddd-e2a0-5e92e4571841"
      },
      "execution_count": 6,
      "outputs": [
        {
          "output_type": "stream",
          "name": "stdout",
          "text": [
            "Mounted at /content/drive\n",
            "/content/drive/MyDrive/ColabNotebooks/AgentsCourse\n"
          ]
        }
      ]
    },
    {
      "cell_type": "code",
      "source": [
        "from google.colab import userdata\n",
        "from huggingface_hub import login\n",
        "from llama_index.llms.openai import OpenAI\n",
        "from llama_index.llms.huggingface_api import HuggingFaceInferenceAPI\n",
        "\n",
        "hf_hub_token = userdata.get('huggingface_hub_access_token')\n",
        "login(token=hf_hub_token)\n",
        "tavily_api_key = userdata.get('TAVILY_API_KEY')\n",
        "openai_api_key = userdata.get('OPENAI_API_KEY')\n",
        "\n",
        "# instantiating an LLM\n",
        "llm = HuggingFaceInferenceAPI(model_name=\"Qwen/Qwen2.5-Coder-32B-Instruct\")\n",
        "#llm = OpenAI(model=\"gpt-4o-mini\", api_key=openai_api_key)"
      ],
      "metadata": {
        "id": "66CKMJFcISJ0"
      },
      "execution_count": 26,
      "outputs": []
    },
    {
      "cell_type": "markdown",
      "source": [
        "## Basic Workflow"
      ],
      "metadata": {
        "id": "titqyeIw_c3h"
      }
    },
    {
      "cell_type": "markdown",
      "source": [
        "`Workflows` are regular python clases, defined as a series of steps, each of which receices certain classes of events and emits certain classes of events."
      ],
      "metadata": {
        "id": "2yeH9Bpj_fdI"
      }
    },
    {
      "cell_type": "markdown",
      "source": [
        "### Tools"
      ],
      "metadata": {
        "id": "uDVLnPMDO3Bw"
      }
    },
    {
      "cell_type": "code",
      "execution_count": 8,
      "metadata": {
        "id": "GLqVkH6h7WmE"
      },
      "outputs": [],
      "source": [
        "from llama_index.core.workflow import StartEvent, StopEvent, Workflow, step\n",
        "from tavily import AsyncTavilyClient"
      ]
    },
    {
      "cell_type": "code",
      "source": [
        "class SimpleWorkflow(Workflow):\n",
        "  @step\n",
        "  async def first_step(self, ev: StartEvent) -> StopEvent:\n",
        "    # do  something\n",
        "    return StopEvent(result=\"Executing step 1 is done successfully!\")\n",
        "\n",
        "workflow = SimpleWorkflow(timeout=10, verbose=True)\n",
        "result = await workflow.run()\n",
        "print(result)"
      ],
      "metadata": {
        "colab": {
          "base_uri": "https://localhost:8080/"
        },
        "id": "858B5v0vglPL",
        "outputId": "a67a7574-cfc9-412b-b79b-64f28e71d28e"
      },
      "execution_count": 9,
      "outputs": [
        {
          "output_type": "stream",
          "name": "stdout",
          "text": [
            "Running step first_step\n",
            "Step first_step produced event StopEvent\n",
            "Executing step 1 is done successfully!\n"
          ]
        }
      ]
    },
    {
      "cell_type": "markdown",
      "source": [
        "## Multi-step workflow"
      ],
      "metadata": {
        "id": "K7KzzuApLeX8"
      }
    },
    {
      "cell_type": "code",
      "source": [
        "from openai import OpenAI\n",
        "\n",
        "client = OpenAI(api_key=openai_api_key)\n",
        "\n",
        "async def web_search(query: str) -> str:\n",
        "  \"\"\"Useful for searching the web and feting data on agiven topic or question.\"\"\"\n",
        "  client = AsyncTavilyClient(api_key=tavily_api_key)\n",
        "  response = await client.search(query)\n",
        "  return str(response) # conver response to a string for processing\n",
        "\n",
        "async def summarize_text_gpt(text: str, model: str = \"gpt-3.5-turbo\") -> str:\n",
        "    \"\"\"Summarizes text using OpenAI's GPT API.\"\"\"\n",
        "    try:\n",
        "        response = client.chat.completions.create(\n",
        "            model=model,\n",
        "            messages=[\n",
        "                {\"role\": \"system\", \"content\": \"Summarize the following research data:\"},\n",
        "                {\"role\": \"user\", \"content\": text}\n",
        "            ],\n",
        "            temperature=0.5,\n",
        "            max_tokens=150\n",
        "        )\n",
        "        # Correct way to access response content\n",
        "        return response.choices[0].message.content.strip()\n",
        "    except Exception as e:\n",
        "        return f\"Error in GPT summarization: {e}\"\n",
        "\n"
      ],
      "metadata": {
        "id": "8tLPXSc5KFgD"
      },
      "execution_count": 29,
      "outputs": []
    },
    {
      "cell_type": "markdown",
      "source": [],
      "metadata": {
        "id": "yNseBm5WwRaF"
      }
    },
    {
      "cell_type": "markdown",
      "source": [
        "Steps are created by custom events that inherit from Event clas that can be emitted and triger other steps."
      ],
      "metadata": {
        "id": "9qN8-JPXv9Ws"
      }
    },
    {
      "cell_type": "code",
      "source": [
        "from llama_index.core.workflow import StartEvent, StopEvent, Workflow, step, Event\n",
        "from llama_index.utils.workflow import draw_all_possible_flows\n",
        "\n",
        "# define custom events\n",
        "class SearchEvent(Event):\n",
        "    first_output: str\n",
        "    input_data: dict\n",
        "\n",
        "\n",
        "class GetDataEvent(Event):\n",
        "    second_output: str\n",
        "    input_data: dict\n",
        "\n",
        "\n",
        "class SummaryDataWorkflow(Workflow):\n",
        "    @step\n",
        "    async def first_step(self, ev: StartEvent) -> SearchEvent:\n",
        "        \"\"\"Initial step to gather research topic and start web search.\"\"\"\n",
        "        research_topic = ev.input_data.get(\"topic\", \"latest stockmarket news\")\n",
        "        print(f\"Starting research on: {research_topic}\")\n",
        "        return SearchEvent(first_output=research_topic, input_data={\"topic\": research_topic})\n",
        "\n",
        "    @step\n",
        "    async def fetch_research_data(self, ev: SearchEvent) -> GetDataEvent:\n",
        "        \"\"\"Fetch research data using Tavily Web Search.\"\"\"\n",
        "        topic = ev.input_data[\"topic\"]\n",
        "        print(f\"Searching the web for {topic}\")\n",
        "        research_data = await web_search(topic)\n",
        "        print(ev.first_output)\n",
        "        print(f\"Web search results received: {research_data[:500]}\")\n",
        "        return GetDataEvent(second_output=research_data, input_data={\"topic\": topic})\n",
        "\n",
        "    @step\n",
        "    async def process_research_data(self, ev: GetDataEvent) -> StopEvent:\n",
        "        \"\"\"Summarizes research data.\"\"\"\n",
        "        topic = ev.input_data[\"topic\"]\n",
        "        data = ev.second_output\n",
        "        print(\"Summarizing research data ...\")\n",
        "        summary = await summarize_text_gpt(data)\n",
        "        print(f\"Summary preview: {summary[:500]} ...\")\n",
        "        return StopEvent(result={\"topic\": topic, \"summary\": summary})\n",
        "\n",
        "\n",
        "# Instantiate and run the workflow\n",
        "workflow = SummaryDataWorkflow(timeout=30, verbose=True)\n",
        "result = await workflow.run(input_data={\"topic\": \"Latest AI breakthroughs\"})\n",
        "print()\n",
        "print(\"Final Result:\", result['summary'])\n"
      ],
      "metadata": {
        "colab": {
          "base_uri": "https://localhost:8080/"
        },
        "id": "LOoxSozJnW9s",
        "outputId": "770e6ac0-de7d-40b8-a2e3-e5ae6ff04da2"
      },
      "execution_count": 31,
      "outputs": [
        {
          "output_type": "stream",
          "name": "stdout",
          "text": [
            "Running step first_step\n",
            "Starting research on: Latest AI breakthroughs\n",
            "Step first_step produced event SearchEvent\n",
            "Running step fetch_research_data\n",
            "Searching the web for Latest AI breakthroughs\n",
            "Latest AI breakthroughs\n",
            "Web search results received: {'query': 'Latest AI breakthroughs', 'follow_up_questions': None, 'answer': None, 'images': [], 'results': [{'title': 'Latest AI Breakthroughs and News - February 2025 | News', 'url': 'https://www.crescendo.ai/news/latest-ai-news-and-updates', 'content': 'Summary: OpenAI has announced GPT-4.5, its largest and most advanced AI model to date. Summary: Interview Kickstart has introduced a new Generative AI (GenAI) course designed for professionals aiming to enhance their skills in artificial intell\n",
            "Step fetch_research_data produced event GetDataEvent\n",
            "Running step process_research_data\n",
            "Summarizing research data ...\n",
            "Summary preview: The research data highlights several recent AI breakthroughs and advancements. OpenAI introduced GPT-4.5, its most advanced AI model to date. Interview Kickstart launched a new Generative AI course. Baidu made its latest Ernie AI model open-source. Elon Musk's X platform upgraded its AI chatbot, Grok, with advanced image editing features. Additionally, Google announced Gemini 2.0, a highly capable AI model with agentic capabilities. Other developments include a novel 6D pose dataset for robotic  ...\n",
            "Step process_research_data produced event StopEvent\n",
            "\n",
            "Final Result: The research data highlights several recent AI breakthroughs and advancements. OpenAI introduced GPT-4.5, its most advanced AI model to date. Interview Kickstart launched a new Generative AI course. Baidu made its latest Ernie AI model open-source. Elon Musk's X platform upgraded its AI chatbot, Grok, with advanced image editing features. Additionally, Google announced Gemini 2.0, a highly capable AI model with agentic capabilities. Other developments include a novel 6D pose dataset for robotic grasping, a laser-based artificial neuron, and advancements in AI image editing and generation technologies by Microsoft and Meta.\n"
          ]
        }
      ]
    },
    {
      "cell_type": "markdown",
      "source": [
        "### Visualiztion"
      ],
      "metadata": {
        "id": "H8Sc_7Taf9mR"
      }
    },
    {
      "cell_type": "markdown",
      "source": [
        "A built-in visualizer, created a interactive html file in current directory"
      ],
      "metadata": {
        "id": "8_22cUH1hPrl"
      }
    },
    {
      "cell_type": "code",
      "source": [
        "!pip install llama-index-utils-workflow"
      ],
      "metadata": {
        "id": "KuneP8U5gBld"
      },
      "execution_count": null,
      "outputs": []
    },
    {
      "cell_type": "code",
      "source": [
        "from llama_index.utils.workflow import draw_all_possible_flows\n",
        "\n",
        "draw_all_possible_flows(workflow, filename=\"simple_workflow.html\")"
      ],
      "metadata": {
        "colab": {
          "base_uri": "https://localhost:8080/"
        },
        "id": "PYxnVA3nguyq",
        "outputId": "abe7a955-e4af-4434-e9ac-a50fa1c38974"
      },
      "execution_count": 32,
      "outputs": [
        {
          "output_type": "stream",
          "name": "stdout",
          "text": [
            "<class 'NoneType'>\n",
            "<class '__main__.GetDataEvent'>\n",
            "<class '__main__.SearchEvent'>\n",
            "<class 'llama_index.core.workflow.events.StopEvent'>\n",
            "simple_workflow.html\n"
          ]
        }
      ]
    },
    {
      "cell_type": "code",
      "source": [
        "from IPython.display import Image, IFrame, display\n",
        "Image('workflow.png')\n"
      ],
      "metadata": {
        "colab": {
          "base_uri": "https://localhost:8080/",
          "height": 562
        },
        "id": "Fo1QVWyNs3RS",
        "outputId": "c1d1d23a-9c41-4ccd-f83b-169d663b5c2b"
      },
      "execution_count": 36,
      "outputs": [
        {
          "output_type": "execute_result",
          "data": {
            "image/png": "[encoded data removed]",
            "text/plain": [
              "<IPython.core.display.Image object>"
            ]
          },
          "metadata": {},
          "execution_count": 36
        }
      ]
    }
  ]
}